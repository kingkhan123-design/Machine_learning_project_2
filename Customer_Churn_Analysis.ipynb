{
 "cells": [
  {
   "cell_type": "code",
   "execution_count": 11,
   "id": "5729395c-1206-4e5d-bd54-c9b964d8d0ab",
   "metadata": {},
   "outputs": [
    {
     "name": "stdout",
     "output_type": "stream",
     "text": [
      "Churn Prediction: No\n",
      "Churn Probability: 13.00%\n"
     ]
    }
   ],
   "source": [
    "import pandas as pd\n",
    "from sklearn.model_selection import train_test_split\n",
    "from sklearn.preprocessing import LabelEncoder, StandardScaler\n",
    "from sklearn.ensemble import RandomForestClassifier\n",
    "import warnings\n",
    "warnings.filterwarnings('ignore')\n",
    "\n",
    "# Load dataset\n",
    "df = pd.read_csv('customer_churn_synthetic.csv')\n",
    "df.fillna(method='ffill', inplace=True)\n",
    "\n",
    "# Encode categorical columns\n",
    "gender_encoder = LabelEncoder()\n",
    "geography_encoder = LabelEncoder()\n",
    "df['Gender'] = gender_encoder.fit_transform(df['Gender'])\n",
    "df['Geography'] = geography_encoder.fit_transform(df['Geography'])\n",
    "\n",
    "# Split features and target\n",
    "X = df.drop(['Exited', 'CustomerID'], axis=1)\n",
    "y = df['Exited']\n",
    "\n",
    "# Train-test split\n",
    "X_train, X_test, y_train, y_test = train_test_split(X, y, test_size=0.2, random_state=42)\n",
    "\n",
    "# Scale features\n",
    "scaler = StandardScaler()\n",
    "X_train = scaler.fit_transform(X_train)\n",
    "X_test = scaler.transform(X_test)\n",
    "\n",
    "# Train model\n",
    "model = RandomForestClassifier(n_estimators=100, random_state=42)\n",
    "model.fit(X_train, y_train)\n",
    "\n",
    "# Sample new customer\n",
    "sample_customer = pd.DataFrame([{\n",
    "    \"CustomerID\": \"1001\",\n",
    "    \"Gender\": \"Female\",\n",
    "    \"Age\": 45,\n",
    "    \"Geography\": \"Germany\",\n",
    "    \"Tenure\": 6,\n",
    "    \"Balance\": 75000.0,\n",
    "    \"NumOfProducts\": 2,\n",
    "    \"HasCrCard\": 1,\n",
    "    \"IsActiveMember\": 0,\n",
    "    \"EstimatedSalary\": 65000.0\n",
    "}])\n",
    "\n",
    "# Encode and scale new customer\n",
    "sample_customer['Gender'] = gender_encoder.transform(sample_customer['Gender'])\n",
    "sample_customer['Geography'] = geography_encoder.transform(sample_customer['Geography'])\n",
    "sample_features = sample_customer.drop('CustomerID', axis=1)\n",
    "sample_scaled = scaler.transform(sample_features)\n",
    "\n",
    "# Predict\n",
    "prediction = model.predict(sample_scaled)[0]\n",
    "probability = model.predict_proba(sample_scaled)[0][1]\n",
    "\n",
    "# Output\n",
    "print(\"Churn Prediction:\", \"Yes\" if prediction else \"No\")\n",
    "print(\"Churn Probability: {:.2f}%\".format(probability * 100))\n"
   ]
  },
  {
   "cell_type": "code",
   "execution_count": null,
   "id": "2152381a-ea50-418a-930e-188191d21c36",
   "metadata": {},
   "outputs": [],
   "source": []
  }
 ],
 "metadata": {
  "kernelspec": {
   "display_name": "Python 3 (ipykernel)",
   "language": "python",
   "name": "python3"
  },
  "language_info": {
   "codemirror_mode": {
    "name": "ipython",
    "version": 3
   },
   "file_extension": ".py",
   "mimetype": "text/x-python",
   "name": "python",
   "nbconvert_exporter": "python",
   "pygments_lexer": "ipython3",
   "version": "3.11.7"
  }
 },
 "nbformat": 4,
 "nbformat_minor": 5
}
